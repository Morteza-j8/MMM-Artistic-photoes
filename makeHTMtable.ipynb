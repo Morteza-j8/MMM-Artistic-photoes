{
 "cells": [
  {
   "cell_type": "markdown",
   "metadata": {},
   "source": [
    "### Create HTML Table from images\n",
    "M.Amintoosi \n",
    "m.amintoosi@gmail.com"
   ]
  },
  {
   "cell_type": "code",
   "execution_count": 20,
   "metadata": {},
   "outputs": [],
   "source": [
    "import os\n",
    "import sys\n",
    "\n",
    "# Root directory of the project\n",
    "ROOT_DIR = os.path.abspath(\"./\")\n",
    "\n",
    "# Import Mask RCNN\n",
    "sys.path.append(ROOT_DIR)  # To find local version of the library\n",
    "\n",
    "# Directory to save logs and trained model\n",
    "IMAGE_DIR = \"styles\"\n",
    "\n",
    "matches = [\"fox1\",\"fox2\",\"fox3\"]\n",
    "\n",
    "file_names = next(os.walk(IMAGE_DIR))[2]\n",
    "\n",
    "strTable = 'Fast Style Transfer, <br>'\n",
    "strTable = strTable+'Paper: <a href=\"https://arxiv.org/abs/1808.04537\">Learning Linear Transformations for Fast Arbitrary Style Transfer</a>  by: Xueting Li, Sifei Liu, Jan Kautz, Ming-Hsuan Yang\\n<br>'\n",
    "strTable = strTable+ 'M.Amintoosi \\n<br> Fox photoes are copyrighted by @Majid Momeni-Moghaddam\\n<br>'\n",
    "strTable = strTable+'<table  align=\"center\" border=\"1\">\\n'\n",
    "strRW = \"<tr><td> Style File </td>\"\n",
    "for res in matches: \n",
    "    strRW = strRW+'<td><img src= \"inputs/'+res+ '.jpg \" width=\"300\"></td>'\n",
    "strRW = strRW+\"</tr>\\n\"\n",
    "strTable = strTable+strRW\n",
    "i = 1\n",
    "for aks in file_names:\n",
    "    strRW = '<tr><td><img src= \"styles/' + aks + '\" width=\"300\">\"</td>'\n",
    "    for res in matches: \n",
    "        strRW = strRW+'<td><img src= \"outputs/' +res+'_'+aks+'\" width=\"300\"></td>'\n",
    "    strRW = strRW+\"</tr>\\n\"\n",
    "    strTable = strTable+strRW\n",
    "    i = i+1\n",
    "       \n",
    "strTable = strTable+\"</table>\"\n",
    " \n",
    "hs = open(\"results.html\", 'w')\n",
    "hs.write(strTable)\n",
    "hs.close() \n",
    "\n",
    "hs = open(\"README.md\", 'w')\n",
    "hs.write(strTable)\n",
    "hs.close() \n",
    "# print(strTable)\n"
   ]
  },
  {
   "cell_type": "code",
   "execution_count": null,
   "metadata": {},
   "outputs": [],
   "source": []
  }
 ],
 "metadata": {
  "kernelspec": {
   "display_name": "Python 3",
   "language": "python",
   "name": "python3"
  },
  "language_info": {
   "codemirror_mode": {
    "name": "ipython",
    "version": 3
   },
   "file_extension": ".py",
   "mimetype": "text/x-python",
   "name": "python",
   "nbconvert_exporter": "python",
   "pygments_lexer": "ipython3",
   "version": "3.7.0"
  }
 },
 "nbformat": 4,
 "nbformat_minor": 2
}
